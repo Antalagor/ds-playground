{
 "cells": [
  {
   "cell_type": "markdown",
   "metadata": {
    "colab_type": "text",
    "id": "CXWWPQeWfF_P"
   },
   "source": [
    "# LunarLander GoogleColab Version"
   ]
  },
  {
   "cell_type": "markdown",
   "metadata": {
    "colab_type": "text",
    "id": "XGyLb3-nfF_U"
   },
   "source": [
    "## Downloads and installs"
   ]
  },
  {
   "cell_type": "code",
   "execution_count": 0,
   "metadata": {
    "colab": {},
    "colab_type": "code",
    "id": "drZpKwpafF_X"
   },
   "outputs": [],
   "source": [
    "!pip install pyglet\n",
    "!pip install pyopengl\n",
    "!pip install pyvirtualdisplay\n",
    "!pip install gym[box2d]\n",
    "!apt-get -y install xvfb freeglut3-dev ffmpeg> /dev/null"
   ]
  },
  {
   "cell_type": "markdown",
   "metadata": {
    "colab_type": "text",
    "id": "U0_2HsgKfF_g"
   },
   "source": [
    "## Import and def"
   ]
  },
  {
   "cell_type": "code",
   "execution_count": 0,
   "metadata": {
    "colab": {},
    "colab_type": "code",
    "id": "rGLOvKOBfF_i"
   },
   "outputs": [],
   "source": [
    "import os\n",
    "from google.colab import drive\n",
    "\n",
    "import matplotlib.pyplot as plt\n",
    "import matplotlib.animation\n",
    "%matplotlib inline\n",
    "from IPython import display\n",
    "from IPython.display import HTML\n",
    "from pyvirtualdisplay import Display\n",
    "\n",
    "import gym\n",
    "from stable_baselines import DQN"
   ]
  },
  {
   "cell_type": "code",
   "execution_count": 0,
   "metadata": {
    "colab": {},
    "colab_type": "code",
    "id": "pyaTn9eKfF_p"
   },
   "outputs": [],
   "source": [
    "drive.mount('/content/drive')\n",
    "\n",
    "display = Display(visible=0, size=(1024, 768))\n",
    "display.start()\n",
    "\n",
    "os.environ[\"DISPLAY\"] = \":\" + str(display.display) + \".\" + str(display.screen)\n",
    "\n",
    "addframes = lambda frames, env: frames.append(env.render(mode = 'rgb_array'))\n",
    "\n",
    "def show_env(frames):\n",
    "    plt.figure(figsize=(frames[0].shape[1] / 72.0, frames[0].shape[0] / 72.0), dpi = 72)\n",
    "    patch = plt.imshow(frames[0])\n",
    "    plt.axis('off')\n",
    "    animate = lambda i: patch.set_data(frames[i])\n",
    "    ani = matplotlib.animation.FuncAnimation(plt.gcf(), animate, frames=len(frames), interval = 50)\n",
    "    return ani.to_jshtml()"
   ]
  },
  {
   "cell_type": "code",
   "execution_count": 0,
   "metadata": {
    "colab": {},
    "colab_type": "code",
    "id": "1Cv_sq702mxr"
   },
   "outputs": [],
   "source": [
    "# train model or load existing one\n",
    "train = True"
   ]
  },
  {
   "cell_type": "markdown",
   "metadata": {
    "colab_type": "text",
    "id": "cEhT6rW3fF_v"
   },
   "source": [
    "## Random"
   ]
  },
  {
   "cell_type": "code",
   "execution_count": 0,
   "metadata": {
    "colab": {},
    "colab_type": "code",
    "id": "EHugPNBQfF_w",
    "scrolled": false
   },
   "outputs": [],
   "source": [
    "frames = []\n",
    "env = gym.make(\"LunarLander-v2\")\n",
    "for i_episode in range(3):\n",
    "    observation = env.reset()\n",
    "    for t in range(100):\n",
    "        addframes(frames, env)\n",
    "        action = env.action_space.sample()\n",
    "        observation, reward, done, info = env.step(action)\n",
    "        if done:\n",
    "            print(\"Episode finished after {} timesteps\".format(t+1))\n",
    "            break\n",
    "env.close()\n",
    "HTML(show_env(frames))"
   ]
  },
  {
   "cell_type": "markdown",
   "metadata": {
    "colab_type": "text",
    "id": "BWY3H6BefF_3"
   },
   "source": [
    "## Deep Q-Learning"
   ]
  },
  {
   "cell_type": "code",
   "execution_count": 0,
   "metadata": {
    "colab": {},
    "colab_type": "code",
    "id": "SrIC4Xd2fF_-"
   },
   "outputs": [],
   "source": [
    "# This is example code from https://github.com/hill-a/stable-baselines\n",
    "if train:\n",
    "  env = gym.make('LunarLander-v2')\n",
    "  model = DQN('MlpPolicy', env, learning_rate=2e-3, prioritized_replay=True, verbose=1)\n",
    "  model.learn(total_timesteps=int(1e5))"
   ]
  },
  {
   "cell_type": "code",
   "execution_count": 0,
   "metadata": {
    "colab": {},
    "colab_type": "code",
    "id": "bifcgWf3W4vH"
   },
   "outputs": [],
   "source": [
    "if train: \n",
    "  model.save(\"dqn_lunar_new\")\n",
    "  model.save(\"/content/drive/My Drive/data/dqn_lunar_new\")"
   ]
  },
  {
   "cell_type": "code",
   "execution_count": 0,
   "metadata": {
    "colab": {},
    "colab_type": "code",
    "id": "yL42r__sfGAD",
    "scrolled": true
   },
   "outputs": [],
   "source": [
    "if not train: \n",
    "  model = DQN.load(\"/content/drive/My Drive/data/dqn_lunar_new\")"
   ]
  },
  {
   "cell_type": "code",
   "execution_count": 0,
   "metadata": {
    "colab": {},
    "colab_type": "code",
    "id": "FpSAEzJZ1bG5"
   },
   "outputs": [],
   "source": [
    "obs = env.reset()\n",
    "frames = []\n",
    "for i_episode in range(3):\n",
    "  observation = env.reset()\n",
    "  for t in range(1000):\n",
    "      addframes(frames, env)\n",
    "      action, _states = model.predict(obs)\n",
    "      obs, rewards, dones, info = env.step(action)\n",
    "      if dones:\n",
    "          print(\"Episode finished after {} timesteps\".format(t+1))\n",
    "          break\n",
    "HTML(show_env(frames))"
   ]
  }
 ],
 "metadata": {
  "accelerator": "GPU",
  "colab": {
   "collapsed_sections": [],
   "name": "LunarLander.ipynb",
   "private_outputs": true,
   "provenance": []
  },
  "kernelspec": {
   "display_name": "Python 3",
   "language": "python",
   "name": "python3"
  },
  "language_info": {
   "codemirror_mode": {
    "name": "ipython",
    "version": 3
   },
   "file_extension": ".py",
   "mimetype": "text/x-python",
   "name": "python",
   "nbconvert_exporter": "python",
   "pygments_lexer": "ipython3",
   "version": "3.7.4"
  }
 },
 "nbformat": 4,
 "nbformat_minor": 1
}
